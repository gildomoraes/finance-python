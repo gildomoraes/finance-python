{
 "cells": [
  {
   "cell_type": "code",
   "execution_count": 3,
   "metadata": {},
   "outputs": [],
   "source": [
    "!pip install selenium -q"
   ]
  },
  {
   "cell_type": "code",
   "execution_count": 12,
   "metadata": {},
   "outputs": [],
   "source": [
    "from selenium import webdriver\n",
    "from selenium.webdriver.common.by import By\n",
    "from selenium.webdriver.firefox.service import Service\n",
    "from selenium.webdriver.firefox.options import Options\n",
    "from selenium.webdriver.support.ui import WebDriverWait\n",
    "from selenium.webdriver.support import expected_conditions as EC\n",
    "import time\n"
   ]
  },
  {
   "cell_type": "code",
   "execution_count": 72,
   "metadata": {},
   "outputs": [],
   "source": [
    "# Caminho para o GeckoDriver\n",
    "gecko_driver_path = 'C:/Users/gildo.mn/Downloads/geckodriver.exe'\n",
    "\n",
    "# Caminho para o executável do Firefox\n",
    "firefox_binary_path = 'C:/Users/gildo.mn/AppData/Local/Mozilla Firefox/firefox.exe'\n",
    "\n",
    "# Configurações do FirefoxDriver\n",
    "firefox_options = Options()\n",
    "firefox_options.binary_location = firefox_binary_path\n",
    "firefox_options.set_preference('browser.download.folderList', 2)\n",
    "firefox_options.set_preference('browser.download.dir', 'C:/Users/gildo.mn/Desktop')\n",
    "firefox_options.set_preference('browser.download.useDownloadDir', True)\n",
    "firefox_options.set_preference('browser.helperApps.neverAsk.saveToDisk', 'text/csv')\n"
   ]
  },
  {
   "cell_type": "code",
   "execution_count": 98,
   "metadata": {},
   "outputs": [],
   "source": [
    "# Inicializar o WebDriver\n",
    "service = Service(gecko_driver_path)\n",
    "driver = webdriver.Firefox(service=service, options=firefox_options)\n",
    "\n",
    "# Abrir a página da B3\n",
    "driver.get('https://www.b3.com.br/pt_br/produtos-e-servicos/negociacao/renda-variavel/fundos-de-investimentos/fiagro/fiagros-fii/')\n",
    "\n",
    "# Accept All Cookies\n",
    "gotit = driver.find_element(By.ID, 'onetrust-accept-btn-handler')\n",
    "gotit.click()\n",
    "\n",
    "# Espera até que o iframe esteja disponível e troca para ele\n",
    "iframe_xpath = \"//iframe[@id='bvmf_iframe']\"\n",
    "iframe = WebDriverWait(driver, 1).until(EC.frame_to_be_available_and_switch_to_it((By.XPATH, iframe_xpath)))\n",
    "\n",
    "# Agora localiza e clica no botão dentro do iframe\n",
    "download_xpath = \"/html/body/app-root/app-funds-home/div/div/div/div/div[1]/div[2]/p/a\"\n",
    "download_button = driver.find_element(By.XPATH, download_xpath)\n",
    "\n",
    "download_button.click()\n",
    "\n",
    "# Esperar o download completar\n",
    "time.sleep(1)\n",
    "\n",
    "# Fechar o navegador\n",
    "driver.quit()"
   ]
  }
 ],
 "metadata": {
  "kernelspec": {
   "display_name": "Python 3",
   "language": "python",
   "name": "python3"
  },
  "language_info": {
   "codemirror_mode": {
    "name": "ipython",
    "version": 3
   },
   "file_extension": ".py",
   "mimetype": "text/x-python",
   "name": "python",
   "nbconvert_exporter": "python",
   "pygments_lexer": "ipython3",
   "version": "3.12.1"
  }
 },
 "nbformat": 4,
 "nbformat_minor": 2
}
