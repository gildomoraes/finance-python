{
 "cells": [
  {
   "cell_type": "markdown",
   "metadata": {},
   "source": []
  },
  {
   "cell_type": "code",
   "execution_count": 5,
   "metadata": {},
   "outputs": [],
   "source": [
    "!pip install yfinance pandas -q"
   ]
  },
  {
   "cell_type": "code",
   "execution_count": 14,
   "metadata": {},
   "outputs": [
    {
     "name": "stdout",
     "output_type": "stream",
     "text": [
      "        Code  Dividend Yield\n",
      "0  HGLG11.SA          0.0814\n",
      "1  KNRI11.SA          0.0757\n",
      "2  VISC11.SA          0.0941\n",
      "3  MXRF11.SA          0.1170\n"
     ]
    }
   ],
   "source": [
    "import yfinance as yf\n",
    "import pandas as pd\n",
    "\n",
    "# Lista de códigos de FIIs na B3\n",
    "fii_codes = ['HGLG11.SA', 'KNRI11.SA', 'VISC11.SA', 'MXRF11.SA']\n",
    "\n",
    "# Função para obter Dividend Yield\n",
    "def get_dividend_yield(ticker):\n",
    "    info = yf.Ticker(ticker).info\n",
    "    return info['dividendYield'] if 'dividendYield' in info else None\n",
    "\n",
    "# Coletar dados dos FIIs e calcular Dividend Yield\n",
    "data = []\n",
    "for code in fii_codes:\n",
    "    ticker = yf.Ticker(code)\n",
    "    close_prices = ticker.history(period=\"1y\")['Close']\n",
    "    dividend_yield = get_dividend_yield(code)\n",
    "    data.append({'Code': code, 'Dividend Yield': dividend_yield})\n",
    "\n",
    "# Converter para DataFrame\n",
    "indicators_df = pd.DataFrame(data)\n",
    "print(indicators_df)\n"
   ]
  },
  {
   "cell_type": "code",
   "execution_count": 16,
   "metadata": {},
   "outputs": [
    {
     "name": "stdout",
     "output_type": "stream",
     "text": [
      "        Code  Dividend Yield\n",
      "0  HGLG11.SA          0.0814\n",
      "1  KNRI11.SA          0.0757\n",
      "2  VISC11.SA          0.0941\n",
      "3  MXRF11.SA          0.1170\n"
     ]
    }
   ],
   "source": [
    "# Definir critério de seleção\n",
    "dy_threshold = 0.06\n",
    "selected_fiis = indicators_df[indicators_df['Dividend Yield'] > dy_threshold]\n",
    "print(selected_fiis)"
   ]
  }
 ],
 "metadata": {
  "kernelspec": {
   "display_name": "Python 3",
   "language": "python",
   "name": "python3"
  },
  "language_info": {
   "codemirror_mode": {
    "name": "ipython",
    "version": 3
   },
   "file_extension": ".py",
   "mimetype": "text/x-python",
   "name": "python",
   "nbconvert_exporter": "python",
   "pygments_lexer": "ipython3",
   "version": "3.12.1"
  }
 },
 "nbformat": 4,
 "nbformat_minor": 2
}
